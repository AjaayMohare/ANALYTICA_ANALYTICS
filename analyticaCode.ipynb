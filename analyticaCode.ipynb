{
 "cells": [
  {
   "cell_type": "code",
   "execution_count": 1,
   "id": "310ef7a8-59e9-4399-ba0f-a545099bb1ea",
   "metadata": {},
   "outputs": [],
   "source": [
    "import tensorflow as tf\n",
    "from tensorflow.keras import layers, models, losses, optimizers, callbacks\n",
    "import os\n"
   ]
  },
  {
   "cell_type": "code",
   "execution_count": 2,
   "id": "61e9bda6-8bb2-431e-9b74-ad565f026f6b",
   "metadata": {},
   "outputs": [
    {
     "name": "stdout",
     "output_type": "stream",
     "text": [
      "Using device: CPU\n"
     ]
    }
   ],
   "source": [
    "gpu_devices = tf.config.list_physical_devices('GPU')\n",
    "if gpu_devices:\n",
    "    print(f\"Using device: GPU ({gpu_devices[0].name})\")\n",
    "else:\n",
    "    print(\"Using device: CPU\")\n",
    "\n"
   ]
  },
  {
   "cell_type": "code",
   "execution_count": 6,
   "id": "1d9532fa-0699-4394-8707-0c8bd121f003",
   "metadata": {},
   "outputs": [
    {
     "name": "stdout",
     "output_type": "stream",
     "text": [
      "Training directory found: C:\\Users\\ajaye\\Downloads\\train\n",
      "Test directory found: C:\\Users\\ajaye\\Downloads\\test\n"
     ]
    }
   ],
   "source": [
    "train_dir = r'C:\\Users\\ajaye\\Downloads\\train'\n",
    "test_dir = r'C:\\Users\\ajaye\\Downloads\\test'\n",
    "\n",
    "\n",
    "if os.path.exists(train_dir):\n",
    "    print(f\"Training directory found: {train_dir}\")\n",
    "else:\n",
    "    print(f\"Training directory NOT found: {train_dir}\")\n",
    "\n",
    "\n",
    "if os.path.exists(test_dir):\n",
    "    print(f\"Test directory found: {test_dir}\")\n",
    "else:\n",
    "    print(f\"Test directory NOT found: {test_dir}\")"
   ]
  },
  {
   "cell_type": "code",
   "execution_count": 7,
   "id": "2e05b6be-a7a9-4fcf-abad-4b4e04209c15",
   "metadata": {},
   "outputs": [],
   "source": [
    "# Hyperparameter adjustments\n",
    "IMG_SIZE = 128\n",
    "BATCH_SIZE = 32\n"
   ]
  },
  {
   "cell_type": "code",
   "execution_count": 8,
   "id": "9c533cea-a8b2-4318-b0e6-8c2f7643e7ba",
   "metadata": {},
   "outputs": [],
   "source": [
    "# Increased epochs since we are using Early Stopping\n",
    "EPOCHS = 50\n",
    "LEARNING_RATE = 0.001\n",
    "WEIGHT_DECAY = 1e-4\n",
    "MODEL_SAVE_PATH = 'best_kidney_stone_cnn_v2.h5'\n",
    "\n"
   ]
  },
  {
   "cell_type": "code",
   "execution_count": 9,
   "id": "75b6dbed-4a90-429a-af8d-ed0edd66419a",
   "metadata": {},
   "outputs": [
    {
     "name": "stdout",
     "output_type": "stream",
     "text": [
      "Found 13088 files belonging to 4 classes.\n",
      "Found 2516 files belonging to 4 classes.\n",
      "Found classes: ['cysts', 'normal', 'stones', 'tumors']\n"
     ]
    }
   ],
   "source": [
    "train_dataset = tf.keras.utils.image_dataset_from_directory(\n",
    "    train_dir,\n",
    "    labels='inferred',\n",
    "    label_mode='int',\n",
    "    image_size=(IMG_SIZE, IMG_SIZE),\n",
    "    batch_size=BATCH_SIZE,\n",
    "    shuffle=True\n",
    ")\n",
    "\n",
    "test_dataset = tf.keras.utils.image_dataset_from_directory(\n",
    "    test_dir,\n",
    "    labels='inferred',\n",
    "    label_mode='int',\n",
    "    image_size=(IMG_SIZE, IMG_SIZE),\n",
    "    batch_size=BATCH_SIZE,\n",
    "    shuffle=False\n",
    ")\n",
    "\n",
    "class_names = train_dataset.class_names\n",
    "num_classes = len(class_names)\n",
    "print(f\"Found classes: {class_names}\")\n",
    "\n",
    "AUTOTUNE = tf.data.AUTOTUNE\n",
    "train_dataset = train_dataset.prefetch(buffer_size=AUTOTUNE)\n",
    "test_dataset = test_dataset.prefetch(buffer_size=AUTOTUNE)\n"
   ]
  },
  {
   "cell_type": "code",
   "execution_count": null,
   "id": "37633af7-e29c-4574-98cc-d359eacf634c",
   "metadata": {},
   "outputs": [],
   "source": []
  }
 ],
 "metadata": {
  "kernelspec": {
   "display_name": "Python 3 (ipykernel)",
   "language": "python",
   "name": "python3"
  },
  "language_info": {
   "codemirror_mode": {
    "name": "ipython",
    "version": 3
   },
   "file_extension": ".py",
   "mimetype": "text/x-python",
   "name": "python",
   "nbconvert_exporter": "python",
   "pygments_lexer": "ipython3",
   "version": "3.13.5"
  }
 },
 "nbformat": 4,
 "nbformat_minor": 5
}
